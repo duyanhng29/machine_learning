{
 "cells": [
  {
   "cell_type": "markdown",
   "id": "daddfb19",
   "metadata": {},
   "source": [
    "# Question 6)"
   ]
  },
  {
   "cell_type": "markdown",
   "id": "1256036f",
   "metadata": {},
   "source": [
    "# a)"
   ]
  },
  {
   "cell_type": "code",
   "execution_count": 1,
   "id": "bdd906ae",
   "metadata": {},
   "outputs": [],
   "source": [
    "import numpy as np\n",
    "import matplotlib.pyplot as plt\n",
    "import sklearn.datasets as ds\n",
    "from sklearn.svm import LinearSVC\n",
    "from sklearn.svm import SVC"
   ]
  },
  {
   "cell_type": "code",
   "execution_count": 2,
   "id": "76786079",
   "metadata": {},
   "outputs": [],
   "source": [
    "data_0 = np.loadtxt('data0.txt')\n",
    "data_x = data_0[:,:2]\n",
    "data_y = data_0[:,-1]"
   ]
  },
  {
   "cell_type": "markdown",
   "id": "4351b241",
   "metadata": {},
   "source": [
    "# b)"
   ]
  },
  {
   "cell_type": "code",
   "execution_count": 3,
   "id": "feae5aa6",
   "metadata": {},
   "outputs": [],
   "source": [
    "ind = np.random.choice(range(data_x.shape[0]), data_x.shape[0], replace=False)\n",
    "x = data_x[ind]\n",
    "y = data_y[ind]\n",
    "j = 0\n",
    "convergence = False\n",
    "w = np.zeros((data_x.shape[1], 4))\n",
    "b = np.zeros(4)\n",
    "\n",
    "while j < 1000 and not convergence:\n",
    "    j += 1\n",
    "    wxb = (data_x @ w) + b.reshape((1, -1))\n",
    "    convergence = np.allclose(np.argmax(wxb, axis = 1), data_y)\n",
    "    for i in range(data_x.shape[0]):\n",
    "        Xi = x[i]\n",
    "        yi = int(y[i])\n",
    "        y_pred = int(np.argmax(Xi.reshape((1, -1)) @ w + b))\n",
    "        if yi != y_pred:\n",
    "            w[:,yi] += Xi\n",
    "            w[:,y_pred] -= Xi\n",
    "            b[yi] += 1\n",
    "            b[y_pred] -= 1"
   ]
  },
  {
   "cell_type": "code",
   "execution_count": 4,
   "id": "a2d52e3e",
   "metadata": {},
   "outputs": [
    {
     "data": {
      "image/png": "[encoded data removed]",
      "text/plain": [
       "<Figure size 640x480 with 1 Axes>"
      ]
     },
     "metadata": {},
     "output_type": "display_data"
    }
   ],
   "source": [
    "min_x, max_x = 0, 10\n",
    "min_y, max_y = 0, 10\n",
    "\n",
    "plt.xlim(min_x, max_x)\n",
    "plt.ylim(min_y, max_y)\n",
    "xx, yy = np.meshgrid(np.arange(min_x, max_x + 0.01, 0.01), np.arange(min_y, max_y + 0.01, 0.01))\n",
    "xxyy = np.c_[xx.flatten(), yy.flatten()]\n",
    "z = np.zeros(len(xxyy))\n",
    "for i, xy in enumerate(xxyy):\n",
    "    \n",
    "    xy_= xy.reshape((1, -1))\n",
    "    z[i] = np.argmax((xy_ @ w).flatten() + b)\n",
    "z = z.reshape(xx.shape)\n",
    "\n",
    "for i in range(4):\n",
    "    xi = data_x[data_y == i]\n",
    "    yi = data_y[data_y == i]\n",
    "    plt.plot(xi[:,0], xi[:, 1], [\"og\", \"^r\", \"*m\", \"pb\"][i])\n",
    "plt.pcolormesh(xx, yy, z, cmap=\"rainbow\", vmin=0, vmax=4)\n",
    "plt.show()"
   ]
  },
  {
   "cell_type": "markdown",
   "id": "54e9f4c7",
   "metadata": {},
   "source": [
    "# Question 7)"
   ]
  },
  {
   "cell_type": "markdown",
   "id": "84af2721",
   "metadata": {},
   "source": [
    "# a)"
   ]
  },
  {
   "cell_type": "code",
   "execution_count": 5,
   "id": "52e36faf",
   "metadata": {},
   "outputs": [],
   "source": [
    "data_1 = np.loadtxt(\"data1.txt\")\n",
    "x1 = data_1[:,:-1]\n",
    "y1 = data_1[:,-1]\n",
    "\n",
    "\n",
    "data_2 = np.loadtxt(\"data2.txt\")\n",
    "x2 = data_2[:,:-1]\n",
    "y2 = data_2[:,-1]"
   ]
  },
  {
   "cell_type": "code",
   "execution_count": 6,
   "id": "b0fd4cc5",
   "metadata": {},
   "outputs": [],
   "source": [
    "def quadratic_kernel(x1, y1):\n",
    "    alpha = np.zeros(x1.shape[0])\n",
    "    b = 0\n",
    "\n",
    "    for i in range(5000):\n",
    "        ind = np.random.choice(x1.shape[0], x1.shape[0], replace = False)\n",
    "        for j in ind:\n",
    "            xj = x1[j]\n",
    "            yj = y1[j]\n",
    "            terms = alpha.flatten() * y1.flatten()\n",
    "            dots = np.square(1 + x1 @ xj.reshape((-1, 1))).flatten()\n",
    "            w_dot_phi = np.dot(terms, dots)\n",
    "            sign =  np.sign(w_dot_phi + b)\n",
    "\n",
    "            if sign != yj:\n",
    "                alpha[j] += 1\n",
    "                b += yj\n",
    "        dot_mat = np.square(1 + x1 @ x1.T)\n",
    "        column_terms = (alpha * y1).reshape((-1, 1))\n",
    "\n",
    "        logit_mat = dot_mat * column_terms\n",
    "        prediction = np.sum(logit_mat, axis=0) + b\n",
    "        convergence = np.allclose(np.sign(prediction), y1)\n",
    "        if convergence:\n",
    "            return  x1, y1, alpha, b"
   ]
  },
  {
   "cell_type": "code",
   "execution_count": 7,
   "id": "4d3b1262",
   "metadata": {},
   "outputs": [],
   "source": [
    "def plot(x1, y1, alpha, b):\n",
    "    min_x, max_x = 0, 10\n",
    "    min_y, max_y = 0, 10\n",
    "\n",
    "    plt.xlim(min_x, max_x)\n",
    "    plt.ylim(min_y, max_y)\n",
    "\n",
    "    xx, yy = np.meshgrid(np.arange(min_x, max_x + 0.01, 0.01), np.arange(min_y, max_y + 0.01, 0.01))\n",
    "    xxyy = np.c_[xx.flatten(), yy.flatten()]\n",
    "    z = np.zeros(len(xxyy))\n",
    "    for i, xy in enumerate(xxyy):\n",
    "\n",
    "        xy_= xy.reshape((1, -1))\n",
    "        phis = ((1 + x1 @ xy.reshape((-1, 1))) ** 2).flatten()\n",
    "        decision = np.sum(alpha * y1 * phis) + b\n",
    "        z[i] = np.sign(decision)\n",
    "    z = z.reshape(xx.shape)\n",
    "    for i, label in enumerate([-1, 1]):\n",
    "        xi = x1[y1==label]\n",
    "        yi = y1[y1==label]\n",
    "        plt.plot(xi[:, 0], xi[:,1], [\"^r\", \"og\"][i])\n",
    "    plt.pcolormesh(xx, yy, z, cmap=plt.cm.PRGn, vmin=-2, vmax=2)"
   ]
  },
  {
   "cell_type": "code",
   "execution_count": 8,
   "id": "73fc566d",
   "metadata": {},
   "outputs": [
    {
     "data": {
      "image/png": "[encoded data removed]",
      "text/plain": [
       "<Figure size 640x480 with 1 Axes>"
      ]
     },
     "metadata": {},
     "output_type": "display_data"
    }
   ],
   "source": [
    "x1, y1, alpha, b = quadratic_kernel(x1, y1)\n",
    "plot(x1, y1, alpha, b)"
   ]
  },
  {
   "cell_type": "code",
   "execution_count": 9,
   "id": "cb567944",
   "metadata": {},
   "outputs": [
    {
     "data": {
      "image/png": "[encoded data removed]",
      "text/plain": [
       "<Figure size 640x480 with 1 Axes>"
      ]
     },
     "metadata": {},
     "output_type": "display_data"
    }
   ],
   "source": [
    "x2, y2, alpha, b = quadratic_kernel(x2, y2)\n",
    "plot(x2, y2, alpha, b)"
   ]
  },
  {
   "cell_type": "markdown",
   "id": "e2653469",
   "metadata": {},
   "source": [
    "# b)"
   ]
  },
  {
   "cell_type": "code",
   "execution_count": 10,
   "id": "f639d145",
   "metadata": {},
   "outputs": [],
   "source": [
    "def rbf_kernel(s, x1, y1):\n",
    "    alpha = np.zeros(x1.shape[0])\n",
    "    b = 0\n",
    "    convergence = False\n",
    "    for i in range(5000):\n",
    "        ind = np.random.choice(x1.shape[0], x1.shape[0], replace = False)\n",
    "        for j in ind:\n",
    "            xj = x1[j]\n",
    "            yj = y1[j]\n",
    "            terms = alpha.flatten()*y1.flatten()\n",
    "            dist = np.exp(-np.sum(np.square(x1 - xj.reshape((1, -1))), axis = 1) / (s ** 2))\n",
    "            decision =  np.sum(dist  *terms + b)\n",
    "            sign = np.sign(decision)\n",
    "            if sign != yj:\n",
    "                alpha[j] += 1\n",
    "                b += yj\n",
    "        terms = alpha.flatten() * y1.flatten()\n",
    "        \n",
    "        for k in range(x1.shape[0]):\n",
    "            xi = x1[k]\n",
    "            yi = y1[k]\n",
    "            distances = np.exp(-np.sum(np.square(x1 - xi.reshape((1, -1))), axis = 1) / (s ** 2))\n",
    "            decision = np.sum(distances * terms) + b\n",
    "            if not np.sign(decision) == yi:\n",
    "                convergence = False\n",
    "            else:\n",
    "                convergence = True\n",
    "        if convergence:\n",
    "            return x1, y1, alpha, b"
   ]
  },
  {
   "cell_type": "code",
   "execution_count": 11,
   "id": "55fa0fe5",
   "metadata": {},
   "outputs": [],
   "source": [
    "def plot_rbf(s, x1, y1, alpha, b):\n",
    "    min_x, max_x = 0, 10\n",
    "    min_y, max_y = 0, 10\n",
    "\n",
    "    plt.xlim(min_x, max_x)\n",
    "    plt.ylim(min_y, max_y)\n",
    "\n",
    "    xx, yy = np.meshgrid(np.arange(min_x, max_x + 0.01, 0.01), np.arange(min_y, max_y + 0.01, 0.01))\n",
    "    xxyy = np.c_[xx.flatten(), yy.flatten()]\n",
    "    z = np.zeros(len(xxyy))\n",
    "    for i, xy in enumerate(xxyy):\n",
    "\n",
    "        xy_= xy.reshape((1, -1))\n",
    "        terms = alpha.flatten() * y1.flatten()\n",
    "        \n",
    "        distances = np.exp(-np.sum(np.square(x1 - xy_.reshape((1, -1))), axis = 1) / (s ** 2))\n",
    "        decision = np.sum(distances * terms) + b\n",
    "        z[i] = np.sign(decision) \n",
    "    z = z.reshape(xx.shape)\n",
    "    for i, label in enumerate([-1, 1]):\n",
    "        xi = x1[y1==label]\n",
    "        yi = y1[y1==label]\n",
    "        plt.plot(xi[:, 0], xi[:,1], [\"^r\", \"og\"][i])\n",
    "    plt.pcolormesh(xx, yy, z, cmap=plt.cm.PRGn, vmin=-2, vmax=2)"
   ]
  },
  {
   "cell_type": "code",
   "execution_count": 12,
   "id": "9d5abfa9",
   "metadata": {},
   "outputs": [
    {
     "data": {
      "image/png": "[encoded data removed]",
      "text/plain": [
       "<Figure size 640x480 with 1 Axes>"
      ]
     },
     "metadata": {},
     "output_type": "display_data"
    }
   ],
   "source": [
    "# data 1, scale = 1\n",
    "x1, y1, alpha, b = rbf_kernel(1, x1, y1)\n",
    "plot_rbf(1, x1, y1, alpha, b,)"
   ]
  },
  {
   "cell_type": "code",
   "execution_count": 13,
   "id": "d5c85564",
   "metadata": {},
   "outputs": [
    {
     "data": {
      "image/png": "[encoded data removed]",
      "text/plain": [
       "<Figure size 640x480 with 1 Axes>"
      ]
     },
     "metadata": {},
     "output_type": "display_data"
    }
   ],
   "source": [
    "# data 1, scale = 5\n",
    "x1, y1, alpha, b = rbf_kernel(5, x1, y1)\n",
    "plot_rbf(5, x1, y1, alpha, b)"
   ]
  },
  {
   "cell_type": "code",
   "execution_count": 14,
   "id": "217cfccd",
   "metadata": {},
   "outputs": [
    {
     "data": {
      "image/png": "[encoded data removed]",
      "text/plain": [
       "<Figure size 640x480 with 1 Axes>"
      ]
     },
     "metadata": {},
     "output_type": "display_data"
    }
   ],
   "source": [
    "# data 2, scale = 1\n",
    "x2, y2, alpha, b = rbf_kernel(1, x2, y2)\n",
    "plot_rbf(1, x2, y2, alpha, b)"
   ]
  },
  {
   "cell_type": "code",
   "execution_count": 15,
   "id": "ff92c24a",
   "metadata": {},
   "outputs": [
    {
     "data": {
      "image/png": "[encoded data removed]",
      "text/plain": [
       "<Figure size 640x480 with 1 Axes>"
      ]
     },
     "metadata": {},
     "output_type": "display_data"
    }
   ],
   "source": [
    "# data 2, scale = 5\n",
    "x2, y2, alpha, b = rbf_kernel(5, x2, y2)\n",
    "plot_rbf(5, x2, y2, alpha, b)"
   ]
  },
  {
   "cell_type": "markdown",
   "id": "0bf10f98",
   "metadata": {},
   "source": [
    "# Question 8)"
   ]
  },
  {
   "cell_type": "markdown",
   "id": "9794be74",
   "metadata": {},
   "source": [
    "# a)"
   ]
  },
  {
   "cell_type": "code",
   "execution_count": 16,
   "id": "96cbc509",
   "metadata": {},
   "outputs": [
    {
     "name": "stderr",
     "output_type": "stream",
     "text": [
      "/Users/nguyenduyanh/anaconda3/lib/python3.11/site-packages/sklearn/datasets/_openml.py:1002: FutureWarning: The default value of `parser` will change from `'liac-arff'` to `'auto'` in 1.4. You can set `parser='auto'` to silence this warning. Therefore, an `ImportError` will be raised from 1.4 if the dataset is dense and pandas is not installed. Note that the pandas parser may return different data types. See the Notes Section in fetch_openml's API doc for details.\n",
      "  warn(\n"
     ]
    },
    {
     "name": "stdout",
     "output_type": "stream",
     "text": [
      "(70000, 784) (70000,)\n",
      "(60000, 784) (10000, 784) (60000,) (10000,)\n"
     ]
    }
   ],
   "source": [
    "data = ds.fetch_openml(\"mnist_784\")\n",
    "temp = []\n",
    "j = 0\n",
    "for i in data['target']:\n",
    "    temp.append(int(i))\n",
    "data_y = np.array(temp)\n",
    "data_x = data['data'].to_numpy()\n",
    "\n",
    "print(data_x.shape, data_y.shape)\n",
    "x_train = data_x[:60000,:]\n",
    "x_test = data_x[60000:,:]\n",
    "y_train = data_y[:60000]\n",
    "y_test = data_y[60000:]\n",
    "print(x_train.shape, x_test.shape, y_train.shape, y_test.shape)"
   ]
  },
  {
   "cell_type": "markdown",
   "id": "0a74ecf0",
   "metadata": {},
   "source": [
    "# b)"
   ]
  },
  {
   "cell_type": "code",
   "execution_count": 17,
   "id": "4d7be476",
   "metadata": {},
   "outputs": [
    {
     "name": "stderr",
     "output_type": "stream",
     "text": [
      "/Users/nguyenduyanh/anaconda3/lib/python3.11/site-packages/sklearn/svm/_classes.py:32: FutureWarning: The default value of `dual` will change from `True` to `'auto'` in 1.5. Set the value of `dual` explicitly to suppress the warning.\n",
      "  warnings.warn(\n",
      "/Users/nguyenduyanh/anaconda3/lib/python3.11/site-packages/sklearn/svm/_base.py:1242: ConvergenceWarning: Liblinear failed to converge, increase the number of iterations.\n",
      "  warnings.warn(\n"
     ]
    },
    {
     "name": "stdout",
     "output_type": "stream",
     "text": [
      "C:  0.01 Train error:  0.12753333333333333 Test error:  0.1357\n"
     ]
    },
    {
     "name": "stderr",
     "output_type": "stream",
     "text": [
      "/Users/nguyenduyanh/anaconda3/lib/python3.11/site-packages/sklearn/svm/_classes.py:32: FutureWarning: The default value of `dual` will change from `True` to `'auto'` in 1.5. Set the value of `dual` explicitly to suppress the warning.\n",
      "  warnings.warn(\n",
      "/Users/nguyenduyanh/anaconda3/lib/python3.11/site-packages/sklearn/svm/_base.py:1242: ConvergenceWarning: Liblinear failed to converge, increase the number of iterations.\n",
      "  warnings.warn(\n"
     ]
    },
    {
     "name": "stdout",
     "output_type": "stream",
     "text": [
      "C:  0.1 Train error:  0.1741 Test error:  0.1854\n"
     ]
    },
    {
     "name": "stderr",
     "output_type": "stream",
     "text": [
      "/Users/nguyenduyanh/anaconda3/lib/python3.11/site-packages/sklearn/svm/_classes.py:32: FutureWarning: The default value of `dual` will change from `True` to `'auto'` in 1.5. Set the value of `dual` explicitly to suppress the warning.\n",
      "  warnings.warn(\n",
      "/Users/nguyenduyanh/anaconda3/lib/python3.11/site-packages/sklearn/svm/_base.py:1242: ConvergenceWarning: Liblinear failed to converge, increase the number of iterations.\n",
      "  warnings.warn(\n"
     ]
    },
    {
     "name": "stdout",
     "output_type": "stream",
     "text": [
      "C:  1.0 Train error:  0.1153 Test error:  0.1184\n"
     ]
    },
    {
     "name": "stderr",
     "output_type": "stream",
     "text": [
      "/Users/nguyenduyanh/anaconda3/lib/python3.11/site-packages/sklearn/svm/_classes.py:32: FutureWarning: The default value of `dual` will change from `True` to `'auto'` in 1.5. Set the value of `dual` explicitly to suppress the warning.\n",
      "  warnings.warn(\n",
      "/Users/nguyenduyanh/anaconda3/lib/python3.11/site-packages/sklearn/svm/_base.py:1242: ConvergenceWarning: Liblinear failed to converge, increase the number of iterations.\n",
      "  warnings.warn(\n"
     ]
    },
    {
     "name": "stdout",
     "output_type": "stream",
     "text": [
      "C:  10 Train error:  0.12755 Test error:  0.1382\n"
     ]
    },
    {
     "name": "stderr",
     "output_type": "stream",
     "text": [
      "/Users/nguyenduyanh/anaconda3/lib/python3.11/site-packages/sklearn/svm/_classes.py:32: FutureWarning: The default value of `dual` will change from `True` to `'auto'` in 1.5. Set the value of `dual` explicitly to suppress the warning.\n",
      "  warnings.warn(\n"
     ]
    },
    {
     "name": "stdout",
     "output_type": "stream",
     "text": [
      "C:  100 Train error:  0.12055 Test error:  0.1249\n"
     ]
    },
    {
     "name": "stderr",
     "output_type": "stream",
     "text": [
      "/Users/nguyenduyanh/anaconda3/lib/python3.11/site-packages/sklearn/svm/_base.py:1242: ConvergenceWarning: Liblinear failed to converge, increase the number of iterations.\n",
      "  warnings.warn(\n"
     ]
    }
   ],
   "source": [
    "c_vals = [0.01, 0.1, 1.0, 10, 100]\n",
    "\n",
    "for c in c_vals:\n",
    "    \n",
    "    svm = LinearSVC(loss=\"hinge\", C = c, max_iter = 500)\n",
    "    svm_fit = svm.fit(x_train, y_train)\n",
    "    prediction_train = svm_fit.predict(x_train)\n",
    "    train_diff = np.not_equal(y_train.flatten(), prediction_train)\n",
    "    error_train = np.mean(train_diff)\n",
    "    \n",
    "    prediction_test = svm_fit.predict(x_test)\n",
    "    \n",
    "    test_diff = np.not_equal(y_test.flatten(), prediction_test)\n",
    "\n",
    "    error_test = np.mean(test_diff)\n",
    "    \n",
    "    print(\"C: \", c, \"Train error: \", error_train, \"Test error: \", error_test)"
   ]
  },
  {
   "cell_type": "markdown",
   "id": "26df0c22",
   "metadata": {},
   "source": [
    "# c)"
   ]
  },
  {
   "cell_type": "code",
   "execution_count": 18,
   "id": "b212536d",
   "metadata": {},
   "outputs": [
    {
     "name": "stderr",
     "output_type": "stream",
     "text": [
      "/Users/nguyenduyanh/anaconda3/lib/python3.11/site-packages/sklearn/svm/_base.py:297: ConvergenceWarning: Solver terminated early (max_iter=500).  Consider pre-processing your data with StandardScaler or MinMaxScaler.\n",
      "  warnings.warn(\n"
     ]
    },
    {
     "name": "stdout",
     "output_type": "stream",
     "text": [
      "# of support vectors:  9158 Train error:  0.013966666666666667 Test error:  0.0244\n"
     ]
    }
   ],
   "source": [
    "svm = SVC(kernel=\"poly\", degree = 2, C = 1.0, max_iter = 500)\n",
    "svm_fit = svm.fit(x_train, y_train)\n",
    "prediction_train = svm_fit.predict(x_train)\n",
    "sv = len(svm_fit.support_)\n",
    "\n",
    "train_diff = np.not_equal(y_train.flatten(), prediction_train)\n",
    "error_train = np.mean(train_diff)\n",
    "\n",
    "prediction_test = svm_fit.predict(x_test)\n",
    "\n",
    "test_diff = np.not_equal(y_test.flatten(), prediction_test)\n",
    "\n",
    "error_test = np.mean(test_diff)\n",
    "\n",
    "print(\"# of support vectors: \", sv, \"Train error: \", error_train, \"Test error: \", error_test)"
   ]
  },
  {
   "cell_type": "code",
   "execution_count": null,
   "id": "16452f58",
   "metadata": {},
   "outputs": [],
   "source": []
  }
 ],
 "metadata": {
  "kernelspec": {
   "display_name": "Python 3 (ipykernel)",
   "language": "python",
   "name": "python3"
  },
  "language_info": {
   "codemirror_mode": {
    "name": "ipython",
    "version": 3
   },
   "file_extension": ".py",
   "mimetype": "text/x-python",
   "name": "python",
   "nbconvert_exporter": "python",
   "pygments_lexer": "ipython3",
   "version": "3.11.4"
  }
 },
 "nbformat": 4,
 "nbformat_minor": 5
}
